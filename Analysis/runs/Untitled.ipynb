{
 "cells": [
  {
   "cell_type": "code",
   "execution_count": 1,
   "metadata": {},
   "outputs": [],
   "source": [
    "import pandas as pd"
   ]
  },
  {
   "cell_type": "code",
   "execution_count": 75,
   "metadata": {},
   "outputs": [],
   "source": [
    "def read_df(filename, i):\n",
    "    df = pd.read_csv(filename, sep='\\t')\n",
    "    df['cmd'] = df.Command.apply(lambda x: x.split(' ')[1].replace('/home/guilhermel/Programs/tf/', ''))\n",
    "    df['exec{}'.format(i)] = df['JobRuntime']\n",
    "    return df.query('Exitval == 0')[['cmd', 'exec{}'.format(i)]]"
   ]
  },
  {
   "cell_type": "code",
   "execution_count": 82,
   "metadata": {},
   "outputs": [],
   "source": [
    "dfs = []\n",
    "for i in range(1, 6):\n",
    "    dfs.append(read_df('run_dag_alp_{}.log'.format(i), i))"
   ]
  },
  {
   "cell_type": "code",
   "execution_count": 83,
   "metadata": {},
   "outputs": [],
   "source": [
    "df = dfs[0]\n",
    "for i in range(1, 5):\n",
    "    df['exec' + str(i+1)] = dfs[i]['exec' + str(i+1)]\n",
    "df.to_clipboard(header=False, index=False, float_format=\"%.3f\", sep=',')"
   ]
  }
 ],
 "metadata": {
  "kernelspec": {
   "display_name": "Python 3",
   "language": "python",
   "name": "python3"
  },
  "language_info": {
   "codemirror_mode": {
    "name": "ipython",
    "version": 3
   },
   "file_extension": ".py",
   "mimetype": "text/x-python",
   "name": "python",
   "nbconvert_exporter": "python",
   "pygments_lexer": "ipython3",
   "version": "3.7.4"
  }
 },
 "nbformat": 4,
 "nbformat_minor": 4
}
