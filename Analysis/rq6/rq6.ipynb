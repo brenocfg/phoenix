{
 "cells": [
  {
   "cell_type": "code",
   "execution_count": 1,
   "metadata": {},
   "outputs": [
    {
     "name": "stderr",
     "output_type": "stream",
     "text": [
      "\n",
      "Attaching package: ‘dplyr’\n",
      "\n",
      "The following objects are masked from ‘package:stats’:\n",
      "\n",
      "    filter, lag\n",
      "\n",
      "The following objects are masked from ‘package:base’:\n",
      "\n",
      "    intersect, setdiff, setequal, union\n",
      "\n"
     ]
    }
   ],
   "source": [
    "library(ggplot2)\n",
    "library(dplyr)\n",
    "library(RColorBrewer)\n",
    "library(tidyr)\n",
    "library(readr)\n",
    "library(stringr)\n",
    "library(ggbeeswarm)\n",
    "options(scipen = 999)"
   ]
  },
  {
   "cell_type": "code",
   "execution_count": 2,
   "metadata": {},
   "outputs": [],
   "source": [
    "options(repr.plot.width=8, repr.plot.height=6)"
   ]
  },
  {
   "cell_type": "code",
   "execution_count": 3,
   "metadata": {},
   "outputs": [],
   "source": [
    "p = ggplot() + \n",
    "    theme_light() + \n",
    "    theme(axis.text.x = element_text(angle = 90, hjust = 1),axis.title.x = element_blank(), axis.title.y = element_text(colour = \"gray30\", size = 9)) +\n",
    "    theme(legend.direction = \"horizontal\", legend.position = \"top\", legend.title = element_blank(), legend.text = element_text(colour = \"gray30\", size = 9)) +\n",
    "    theme(axis.text.x = element_text(angle = 90, vjust=0.5, hjust=1)) +\n",
    "    theme(panel.grid.minor.x = element_blank(), panel.grid.major.x = element_blank())"
   ]
  },
  {
   "cell_type": "code",
   "execution_count": 6,
   "metadata": {},
   "outputs": [],
   "source": [
    "# df = read.csv('data_agg.csv')\n",
    "df = read.csv('data_polybench.csv')"
   ]
  },
  {
   "cell_type": "code",
   "execution_count": 22,
   "metadata": {},
   "outputs": [],
   "source": [
    "df2 = df %>% filter(benchmark != 'Covariance') %>% filter (factor < 1.0)"
   ]
  },
  {
   "cell_type": "code",
   "execution_count": 23,
   "metadata": {},
   "outputs": [
    {
     "data": {
      "text/html": [
       "<table>\n",
       "<caption>A data.frame: 19 × 4</caption>\n",
       "<thead>\n",
       "\t<tr><th scope=col>benchmark</th><th scope=col>factor</th><th scope=col>strategy</th><th scope=col>mean</th></tr>\n",
       "\t<tr><th scope=col>&lt;fct&gt;</th><th scope=col>&lt;dbl&gt;</th><th scope=col>&lt;fct&gt;</th><th scope=col>&lt;dbl&gt;</th></tr>\n",
       "</thead>\n",
       "<tbody>\n",
       "\t<tr><td>ludcmp</td><td>0.05</td><td>ESS</td><td>16.797</td></tr>\n",
       "\t<tr><td>ludcmp</td><td>0.10</td><td>ESS</td><td>16.790</td></tr>\n",
       "\t<tr><td>ludcmp</td><td>0.15</td><td>ESS</td><td>16.786</td></tr>\n",
       "\t<tr><td>ludcmp</td><td>0.20</td><td>ESS</td><td>16.807</td></tr>\n",
       "\t<tr><td>ludcmp</td><td>0.25</td><td>ESS</td><td>16.803</td></tr>\n",
       "\t<tr><td>ludcmp</td><td>0.30</td><td>ESS</td><td>16.863</td></tr>\n",
       "\t<tr><td>ludcmp</td><td>0.35</td><td>ESS</td><td>16.859</td></tr>\n",
       "\t<tr><td>ludcmp</td><td>0.40</td><td>ESS</td><td>16.775</td></tr>\n",
       "\t<tr><td>ludcmp</td><td>0.45</td><td>ESS</td><td>16.809</td></tr>\n",
       "\t<tr><td>ludcmp</td><td>0.50</td><td>ESS</td><td>16.785</td></tr>\n",
       "\t<tr><td>ludcmp</td><td>0.55</td><td>ESS</td><td>16.871</td></tr>\n",
       "\t<tr><td>ludcmp</td><td>0.60</td><td>ESS</td><td>16.796</td></tr>\n",
       "\t<tr><td>ludcmp</td><td>0.65</td><td>ESS</td><td>16.889</td></tr>\n",
       "\t<tr><td>ludcmp</td><td>0.70</td><td>ESS</td><td>16.807</td></tr>\n",
       "\t<tr><td>ludcmp</td><td>0.75</td><td>ESS</td><td>16.805</td></tr>\n",
       "\t<tr><td>ludcmp</td><td>0.80</td><td>ESS</td><td>16.852</td></tr>\n",
       "\t<tr><td>ludcmp</td><td>0.85</td><td>ESS</td><td>16.811</td></tr>\n",
       "\t<tr><td>ludcmp</td><td>0.90</td><td>ESS</td><td>16.779</td></tr>\n",
       "\t<tr><td>ludcmp</td><td>0.95</td><td>ESS</td><td>16.836</td></tr>\n",
       "</tbody>\n",
       "</table>\n"
      ],
      "text/latex": [
       "A data.frame: 19 × 4\n",
       "\\begin{tabular}{r|llll}\n",
       " benchmark & factor & strategy & mean\\\\\n",
       " <fct> & <dbl> & <fct> & <dbl>\\\\\n",
       "\\hline\n",
       "\t ludcmp & 0.05 & ESS & 16.797\\\\\n",
       "\t ludcmp & 0.10 & ESS & 16.790\\\\\n",
       "\t ludcmp & 0.15 & ESS & 16.786\\\\\n",
       "\t ludcmp & 0.20 & ESS & 16.807\\\\\n",
       "\t ludcmp & 0.25 & ESS & 16.803\\\\\n",
       "\t ludcmp & 0.30 & ESS & 16.863\\\\\n",
       "\t ludcmp & 0.35 & ESS & 16.859\\\\\n",
       "\t ludcmp & 0.40 & ESS & 16.775\\\\\n",
       "\t ludcmp & 0.45 & ESS & 16.809\\\\\n",
       "\t ludcmp & 0.50 & ESS & 16.785\\\\\n",
       "\t ludcmp & 0.55 & ESS & 16.871\\\\\n",
       "\t ludcmp & 0.60 & ESS & 16.796\\\\\n",
       "\t ludcmp & 0.65 & ESS & 16.889\\\\\n",
       "\t ludcmp & 0.70 & ESS & 16.807\\\\\n",
       "\t ludcmp & 0.75 & ESS & 16.805\\\\\n",
       "\t ludcmp & 0.80 & ESS & 16.852\\\\\n",
       "\t ludcmp & 0.85 & ESS & 16.811\\\\\n",
       "\t ludcmp & 0.90 & ESS & 16.779\\\\\n",
       "\t ludcmp & 0.95 & ESS & 16.836\\\\\n",
       "\\end{tabular}\n"
      ],
      "text/markdown": [
       "\n",
       "A data.frame: 19 × 4\n",
       "\n",
       "| benchmark &lt;fct&gt; | factor &lt;dbl&gt; | strategy &lt;fct&gt; | mean &lt;dbl&gt; |\n",
       "|---|---|---|---|\n",
       "| ludcmp | 0.05 | ESS | 16.797 |\n",
       "| ludcmp | 0.10 | ESS | 16.790 |\n",
       "| ludcmp | 0.15 | ESS | 16.786 |\n",
       "| ludcmp | 0.20 | ESS | 16.807 |\n",
       "| ludcmp | 0.25 | ESS | 16.803 |\n",
       "| ludcmp | 0.30 | ESS | 16.863 |\n",
       "| ludcmp | 0.35 | ESS | 16.859 |\n",
       "| ludcmp | 0.40 | ESS | 16.775 |\n",
       "| ludcmp | 0.45 | ESS | 16.809 |\n",
       "| ludcmp | 0.50 | ESS | 16.785 |\n",
       "| ludcmp | 0.55 | ESS | 16.871 |\n",
       "| ludcmp | 0.60 | ESS | 16.796 |\n",
       "| ludcmp | 0.65 | ESS | 16.889 |\n",
       "| ludcmp | 0.70 | ESS | 16.807 |\n",
       "| ludcmp | 0.75 | ESS | 16.805 |\n",
       "| ludcmp | 0.80 | ESS | 16.852 |\n",
       "| ludcmp | 0.85 | ESS | 16.811 |\n",
       "| ludcmp | 0.90 | ESS | 16.779 |\n",
       "| ludcmp | 0.95 | ESS | 16.836 |\n",
       "\n"
      ],
      "text/plain": [
       "   benchmark factor strategy mean  \n",
       "1  ludcmp    0.05   ESS      16.797\n",
       "2  ludcmp    0.10   ESS      16.790\n",
       "3  ludcmp    0.15   ESS      16.786\n",
       "4  ludcmp    0.20   ESS      16.807\n",
       "5  ludcmp    0.25   ESS      16.803\n",
       "6  ludcmp    0.30   ESS      16.863\n",
       "7  ludcmp    0.35   ESS      16.859\n",
       "8  ludcmp    0.40   ESS      16.775\n",
       "9  ludcmp    0.45   ESS      16.809\n",
       "10 ludcmp    0.50   ESS      16.785\n",
       "11 ludcmp    0.55   ESS      16.871\n",
       "12 ludcmp    0.60   ESS      16.796\n",
       "13 ludcmp    0.65   ESS      16.889\n",
       "14 ludcmp    0.70   ESS      16.807\n",
       "15 ludcmp    0.75   ESS      16.805\n",
       "16 ludcmp    0.80   ESS      16.852\n",
       "17 ludcmp    0.85   ESS      16.811\n",
       "18 ludcmp    0.90   ESS      16.779\n",
       "19 ludcmp    0.95   ESS      16.836"
      ]
     },
     "metadata": {},
     "output_type": "display_data"
    }
   ],
   "source": [
    "df2 %>% filter(benchmark == 'ludcmp' & strategy == 'ESS')"
   ]
  },
  {
   "cell_type": "code",
   "execution_count": 26,
   "metadata": {},
   "outputs": [],
   "source": [
    "# geom_blank(data=dummy)\n",
    "range_act <- range(range(df2$factor), range(df2$mean))\n",
    "\n",
    "dummy <- data.frame(benchmark = 'ludcmp', strategy = 'ESS',\n",
    "                    factor = range_act, mean = range_act, stringsAsFactors=FALSE)"
   ]
  },
  {
   "cell_type": "code",
   "execution_count": 30,
   "metadata": {},
   "outputs": [
    {
     "data": {
      "text/html": [
       "<ol class=list-inline>\n",
       "\t<li>NA</li>\n",
       "\t<li>NA</li>\n",
       "</ol>\n"
      ],
      "text/latex": [
       "\\begin{enumerate*}\n",
       "\\item NA\n",
       "\\item NA\n",
       "\\end{enumerate*}\n"
      ],
      "text/markdown": [
       "1. NA\n",
       "2. NA\n",
       "\n",
       "\n"
      ],
      "text/plain": [
       "[1] NA NA"
      ]
     },
     "metadata": {},
     "output_type": "display_data"
    }
   ],
   "source": [
    "range(df2$factor)"
   ]
  },
  {
   "cell_type": "code",
   "execution_count": 27,
   "metadata": {},
   "outputs": [
    {
     "ename": "ERROR",
     "evalue": "Error: Discrete value supplied to continuous scale\n",
     "output_type": "error",
     "traceback": [
      "Error: Discrete value supplied to continuous scale\nTraceback:\n",
      "1. ggsave(\"rq6.pdf\", device = \"pdf\", width = 4, height = 6)",
      "2. grid.draw(plot)",
      "3. grid.draw.ggplot(plot)",
      "4. print(x)",
      "5. print.ggplot(x)",
      "6. ggplot_build(x)",
      "7. ggplot_build.ggplot(x)",
      "8. layout$train_position(data, scale_x(), scale_y())",
      "9. f(..., self = self)",
      "10. self$facet$train_scales(self$panel_scales_x, self$panel_scales_y, \n  .     layout, data, self$facet_params)",
      "11. f(...)",
      "12. scale_apply(layer_data, x_vars, \"train\", SCALE_X, x_scales)",
      "13. lapply(vars, function(var) {\n  .     pieces <- lapply(seq_along(scales), function(i) {\n  .         scales[[i]][[method]](data[[var]][scale_index[[i]]])\n  .     })\n  .     if (!is.null(pieces)) {\n  .         unlist(pieces)[order(unlist(scale_index))]\n  .     }\n  . })",
      "14. FUN(X[[i]], ...)",
      "15. lapply(seq_along(scales), function(i) {\n  .     scales[[i]][[method]](data[[var]][scale_index[[i]]])\n  . })",
      "16. FUN(X[[i]], ...)",
      "17. scales[[i]][[method]](data[[var]][scale_index[[i]]])",
      "18. f(..., self = self)",
      "19. self$range$train(x)",
      "20. f(..., self = self)",
      "21. scales::train_continuous(x, self$range)",
      "22. stop(\"Discrete value supplied to continuous scale\", call. = FALSE)"
     ]
    }
   ],
   "source": [
    "p + \n",
    "    geom_point(data = df2, aes(x = factor, y = mean, colour = strategy, shape = strategy), size = 2) +\n",
    "    facet_grid(benchmark ~ ., scales=\"free_y\") +\n",
    "    geom_blank(data=dummy)+\n",
    "#     theme(axis.text.y=element_blank(), axis.ticks.y = element_blank()) +\n",
    "    theme(strip.background = element_blank(), strip.text.x = element_blank()) +\n",
    "#     theme(axis.text.x = element_text(angle = 90, vjust=0.5, hjust=1, size = 8)) +\n",
    "    scale_shape_manual(values = c(1, 3, 4, 2)) + \n",
    "    theme(legend.position = 'none') +\n",
    "    scale_color_grey(start = 0.5, end = .1) +\n",
    "    scale_x_continuous(breaks = seq(0.05, 0.95, by=0.05)) +\n",
    "    ylab('') +\n",
    "    ggsave('rq6.pdf', device = 'pdf', width = 4, height = 6)"
   ]
  },
  {
   "cell_type": "code",
   "execution_count": null,
   "metadata": {},
   "outputs": [],
   "source": []
  }
 ],
 "metadata": {
  "kernelspec": {
   "display_name": "R",
   "language": "R",
   "name": "ir"
  },
  "language_info": {
   "codemirror_mode": "r",
   "file_extension": ".r",
   "mimetype": "text/x-r-source",
   "name": "R",
   "pygments_lexer": "r",
   "version": "3.6.1"
  }
 },
 "nbformat": 4,
 "nbformat_minor": 4
}
