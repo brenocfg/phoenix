{
 "cells": [
  {
   "cell_type": "code",
   "execution_count": 1,
   "metadata": {},
   "outputs": [],
   "source": [
    "import pandas as pd\n",
    "import numpy as np\n",
    "import sys\n",
    "from collections import defaultdict\n",
    "from plotnine import *"
   ]
  },
  {
   "cell_type": "code",
   "execution_count": 3,
   "metadata": {},
   "outputs": [],
   "source": [
    "def read_csv(filename, type):\n",
    "    \n",
    "    def build_array():\n",
    "        arr = []\n",
    "        with open(filename, 'r') as f:\n",
    "            l = []\n",
    "            for line in f:\n",
    "                if 'timeout' in line:\n",
    "                    l.append(line.split(' ')[3].replace('./INS_', '').strip('.exe'))\n",
    "                    arr.append(l)\n",
    "                    l = []\n",
    "                else:\n",
    "                    l.append(float(line.split(' ')[2]))\n",
    "        return arr\n",
    "    \n",
    "    def build_dict(arr):\n",
    "        d = defaultdict(list)\n",
    "        for l in arr:\n",
    "            d['total_time'].append(l[3] - l[0])\n",
    "            d['common_opt'].append(l[1] - l[0])\n",
    "            d['my_opt_time'].append(l[2] - l[1])\n",
    "            d['o3_opt'].append(l[3] - l[2])\n",
    "            d['Benchmark'].append(l[4])\n",
    "        return d\n",
    "    \n",
    "    arr = build_array()\n",
    "    d = build_dict(arr)\n",
    "    df = pd.DataFrame.from_dict(d)\n",
    "    df['type'] = type\n",
    "    return df"
   ]
  },
  {
   "cell_type": "code",
   "execution_count": 4,
   "metadata": {},
   "outputs": [],
   "source": [
    "store = read_csv('store_comp.txt', 'store')\n",
    "load = read_csv('load_comp.txt', 'load')\n",
    "intra = read_csv('intra_comp.txt', 'intra')\n",
    "inter = read_csv('inter_comp.txt', 'inter')"
   ]
  },
  {
   "cell_type": "code",
   "execution_count": 27,
   "metadata": {},
   "outputs": [
    {
     "data": {
      "text/plain": [
       "0.31106665134429934"
      ]
     },
     "execution_count": 27,
     "metadata": {},
     "output_type": "execute_result"
    }
   ],
   "source": [
    "before = list(map(lambda x : float(x.strip().strip('before ')), open('before.txt').readlines()))\n",
    "after = list(map(lambda x : float(x.strip().strip('after ')), open('after.txt').readlines()))\n",
    "\n",
    "O3 = []\n",
    "for b, a in zip(before, after):\n",
    "    O3.append(a-b)\n",
    "    \n",
    "np.average(O3)"
   ]
  },
  {
   "cell_type": "code",
   "execution_count": 25,
   "metadata": {},
   "outputs": [
    {
     "data": {
      "text/html": [
       "<div>\n",
       "<style scoped>\n",
       "    .dataframe tbody tr th:only-of-type {\n",
       "        vertical-align: middle;\n",
       "    }\n",
       "\n",
       "    .dataframe tbody tr th {\n",
       "        vertical-align: top;\n",
       "    }\n",
       "\n",
       "    .dataframe thead th {\n",
       "        text-align: right;\n",
       "    }\n",
       "</style>\n",
       "<table border=\"1\" class=\"dataframe\">\n",
       "  <thead>\n",
       "    <tr style=\"text-align: right;\">\n",
       "      <th></th>\n",
       "      <th>total_time</th>\n",
       "      <th>common_opt</th>\n",
       "      <th>my_opt_time</th>\n",
       "      <th>o3_opt</th>\n",
       "      <th>Benchmark</th>\n",
       "      <th>type</th>\n",
       "    </tr>\n",
       "  </thead>\n",
       "  <tbody>\n",
       "    <tr>\n",
       "      <th>0</th>\n",
       "      <td>0.442228</td>\n",
       "      <td>0.099971</td>\n",
       "      <td>0.039513</td>\n",
       "      <td>0.302744</td>\n",
       "      <td>correlation</td>\n",
       "      <td>load</td>\n",
       "    </tr>\n",
       "    <tr>\n",
       "      <th>1</th>\n",
       "      <td>0.392632</td>\n",
       "      <td>0.082227</td>\n",
       "      <td>0.036719</td>\n",
       "      <td>0.273687</td>\n",
       "      <td>covarianc</td>\n",
       "      <td>load</td>\n",
       "    </tr>\n",
       "    <tr>\n",
       "      <th>2</th>\n",
       "      <td>0.386524</td>\n",
       "      <td>0.089056</td>\n",
       "      <td>0.030151</td>\n",
       "      <td>0.267316</td>\n",
       "      <td>gemm</td>\n",
       "      <td>load</td>\n",
       "    </tr>\n",
       "    <tr>\n",
       "      <th>3</th>\n",
       "      <td>0.432667</td>\n",
       "      <td>0.091224</td>\n",
       "      <td>0.039022</td>\n",
       "      <td>0.302421</td>\n",
       "      <td>gemver</td>\n",
       "      <td>load</td>\n",
       "    </tr>\n",
       "    <tr>\n",
       "      <th>4</th>\n",
       "      <td>0.326936</td>\n",
       "      <td>0.073550</td>\n",
       "      <td>0.031453</td>\n",
       "      <td>0.221934</td>\n",
       "      <td>gesummv</td>\n",
       "      <td>load</td>\n",
       "    </tr>\n",
       "    <tr>\n",
       "      <th>5</th>\n",
       "      <td>0.451607</td>\n",
       "      <td>0.090504</td>\n",
       "      <td>0.035987</td>\n",
       "      <td>0.325116</td>\n",
       "      <td>symm</td>\n",
       "      <td>load</td>\n",
       "    </tr>\n",
       "    <tr>\n",
       "      <th>6</th>\n",
       "      <td>0.382065</td>\n",
       "      <td>0.082000</td>\n",
       "      <td>0.035495</td>\n",
       "      <td>0.264570</td>\n",
       "      <td>syrk</td>\n",
       "      <td>load</td>\n",
       "    </tr>\n",
       "    <tr>\n",
       "      <th>7</th>\n",
       "      <td>0.381592</td>\n",
       "      <td>0.077244</td>\n",
       "      <td>0.033856</td>\n",
       "      <td>0.270492</td>\n",
       "      <td>trmm</td>\n",
       "      <td>load</td>\n",
       "    </tr>\n",
       "    <tr>\n",
       "      <th>8</th>\n",
       "      <td>0.452149</td>\n",
       "      <td>0.108473</td>\n",
       "      <td>0.039306</td>\n",
       "      <td>0.304371</td>\n",
       "      <td>2mm</td>\n",
       "      <td>load</td>\n",
       "    </tr>\n",
       "    <tr>\n",
       "      <th>9</th>\n",
       "      <td>0.483469</td>\n",
       "      <td>0.116125</td>\n",
       "      <td>0.041174</td>\n",
       "      <td>0.326169</td>\n",
       "      <td>3mm</td>\n",
       "      <td>load</td>\n",
       "    </tr>\n",
       "    <tr>\n",
       "      <th>10</th>\n",
       "      <td>0.342970</td>\n",
       "      <td>0.074760</td>\n",
       "      <td>0.034863</td>\n",
       "      <td>0.233347</td>\n",
       "      <td>ata</td>\n",
       "      <td>load</td>\n",
       "    </tr>\n",
       "    <tr>\n",
       "      <th>11</th>\n",
       "      <td>0.357963</td>\n",
       "      <td>0.078459</td>\n",
       "      <td>0.038974</td>\n",
       "      <td>0.240530</td>\n",
       "      <td>bicg</td>\n",
       "      <td>load</td>\n",
       "    </tr>\n",
       "    <tr>\n",
       "      <th>12</th>\n",
       "      <td>0.498349</td>\n",
       "      <td>0.095707</td>\n",
       "      <td>0.035895</td>\n",
       "      <td>0.366748</td>\n",
       "      <td>doitgen</td>\n",
       "      <td>load</td>\n",
       "    </tr>\n",
       "    <tr>\n",
       "      <th>13</th>\n",
       "      <td>0.365467</td>\n",
       "      <td>0.081284</td>\n",
       "      <td>0.035697</td>\n",
       "      <td>0.248486</td>\n",
       "      <td>mvt</td>\n",
       "      <td>load</td>\n",
       "    </tr>\n",
       "    <tr>\n",
       "      <th>14</th>\n",
       "      <td>0.500735</td>\n",
       "      <td>0.105298</td>\n",
       "      <td>0.038682</td>\n",
       "      <td>0.356756</td>\n",
       "      <td>cholesky</td>\n",
       "      <td>load</td>\n",
       "    </tr>\n",
       "    <tr>\n",
       "      <th>15</th>\n",
       "      <td>0.447605</td>\n",
       "      <td>0.104160</td>\n",
       "      <td>0.038939</td>\n",
       "      <td>0.304507</td>\n",
       "      <td>gramschmidt</td>\n",
       "      <td>load</td>\n",
       "    </tr>\n",
       "    <tr>\n",
       "      <th>16</th>\n",
       "      <td>0.505817</td>\n",
       "      <td>0.105581</td>\n",
       "      <td>0.033063</td>\n",
       "      <td>0.367174</td>\n",
       "      <td>lu</td>\n",
       "      <td>load</td>\n",
       "    </tr>\n",
       "    <tr>\n",
       "      <th>17</th>\n",
       "      <td>0.608668</td>\n",
       "      <td>0.131642</td>\n",
       "      <td>0.041717</td>\n",
       "      <td>0.435308</td>\n",
       "      <td>ludcmp</td>\n",
       "      <td>load</td>\n",
       "    </tr>\n",
       "    <tr>\n",
       "      <th>18</th>\n",
       "      <td>0.344221</td>\n",
       "      <td>0.070403</td>\n",
       "      <td>0.034071</td>\n",
       "      <td>0.239747</td>\n",
       "      <td>trisolv</td>\n",
       "      <td>load</td>\n",
       "    </tr>\n",
       "    <tr>\n",
       "      <th>19</th>\n",
       "      <td>0.534750</td>\n",
       "      <td>0.122020</td>\n",
       "      <td>0.042717</td>\n",
       "      <td>0.370014</td>\n",
       "      <td>fdtd-2d</td>\n",
       "      <td>load</td>\n",
       "    </tr>\n",
       "  </tbody>\n",
       "</table>\n",
       "</div>"
      ],
      "text/plain": [
       "    total_time  common_opt  my_opt_time    o3_opt    Benchmark  type\n",
       "0     0.442228    0.099971     0.039513  0.302744  correlation  load\n",
       "1     0.392632    0.082227     0.036719  0.273687    covarianc  load\n",
       "2     0.386524    0.089056     0.030151  0.267316         gemm  load\n",
       "3     0.432667    0.091224     0.039022  0.302421       gemver  load\n",
       "4     0.326936    0.073550     0.031453  0.221934      gesummv  load\n",
       "5     0.451607    0.090504     0.035987  0.325116         symm  load\n",
       "6     0.382065    0.082000     0.035495  0.264570         syrk  load\n",
       "7     0.381592    0.077244     0.033856  0.270492         trmm  load\n",
       "8     0.452149    0.108473     0.039306  0.304371          2mm  load\n",
       "9     0.483469    0.116125     0.041174  0.326169          3mm  load\n",
       "10    0.342970    0.074760     0.034863  0.233347          ata  load\n",
       "11    0.357963    0.078459     0.038974  0.240530         bicg  load\n",
       "12    0.498349    0.095707     0.035895  0.366748      doitgen  load\n",
       "13    0.365467    0.081284     0.035697  0.248486          mvt  load\n",
       "14    0.500735    0.105298     0.038682  0.356756     cholesky  load\n",
       "15    0.447605    0.104160     0.038939  0.304507  gramschmidt  load\n",
       "16    0.505817    0.105581     0.033063  0.367174           lu  load\n",
       "17    0.608668    0.131642     0.041717  0.435308       ludcmp  load\n",
       "18    0.344221    0.070403     0.034071  0.239747      trisolv  load\n",
       "19    0.534750    0.122020     0.042717  0.370014      fdtd-2d  load"
      ]
     },
     "execution_count": 25,
     "metadata": {},
     "output_type": "execute_result"
    }
   ],
   "source": [
    "load"
   ]
  },
  {
   "cell_type": "code",
   "execution_count": 29,
   "metadata": {},
   "outputs": [
    {
     "name": "stdout",
     "output_type": "stream",
     "text": [
      "-O3 without instrumentation: 0.31106665134429934\n",
      "0.30955594778060913\n",
      "0.3010717988014221\n",
      "0.40059378147125246\n",
      "0.5317592024803162\n"
     ]
    }
   ],
   "source": [
    "# the time that -O3 takes in each ring optimization\n",
    "from scipy.stats.mstats import gmean\n",
    "print('-O3 without instrumentation:', np.mean(O3))\n",
    "print(np.average(store['o3_opt']))\n",
    "print(np.average(load['o3_opt']))\n",
    "print(np.average(intra['o3_opt']))\n",
    "print(np.average(inter['o3_opt']))"
   ]
  },
  {
   "cell_type": "code",
   "execution_count": null,
   "metadata": {},
   "outputs": [],
   "source": []
  },
  {
   "cell_type": "code",
   "execution_count": 30,
   "metadata": {},
   "outputs": [
    {
     "data": {
      "text/plain": [
       "0.36804222856680485"
      ]
     },
     "execution_count": 30,
     "metadata": {},
     "output_type": "execute_result"
    }
   ],
   "source": [
    "# what is the overall geometric mean?\n",
    "pd.concat([store['o3_opt'], load['o3_opt'], intra['o3_opt'], inter['o3_opt']]).pipe(gmean)"
   ]
  },
  {
   "cell_type": "code",
   "execution_count": null,
   "metadata": {},
   "outputs": [],
   "source": []
  },
  {
   "cell_type": "code",
   "execution_count": 4,
   "metadata": {},
   "outputs": [],
   "source": [
    "df = pd.concat([store, load, intra, inter])"
   ]
  },
  {
   "cell_type": "code",
   "execution_count": 85,
   "metadata": {},
   "outputs": [],
   "source": [
    "df.to_csv('comp_times.csv', float_format = '%.3f', index=False)"
   ]
  },
  {
   "cell_type": "code",
   "execution_count": 65,
   "metadata": {},
   "outputs": [
    {
     "data": {
      "image/png": "[encoded data removed]",
      "text/plain": [
       "<Figure size 640x480 with 1 Axes>"
      ]
     },
     "metadata": {},
     "output_type": "display_data"
    },
    {
     "data": {
      "text/plain": [
       "<ggplot: (284355641)>"
      ]
     },
     "execution_count": 65,
     "metadata": {},
     "output_type": "execute_result"
    }
   ],
   "source": [
    "(ggplot(df) +\n",
    " geom_bar(aes(x = 'Benchmark', y = 'total_time'), stat = 'identity', fill = 'gray') +\n",
    " geom_bar(aes(x = 'Benchmark', y = 'my_opt_time'), stat = 'identity', fill = 'red') +\n",
    " coord_flip()\n",
    ")"
   ]
  },
  {
   "cell_type": "code",
   "execution_count": null,
   "metadata": {},
   "outputs": [],
   "source": []
  }
 ],
 "metadata": {
  "kernelspec": {
   "display_name": "Python 3",
   "language": "python",
   "name": "python3"
  },
  "language_info": {
   "codemirror_mode": {
    "name": "ipython",
    "version": 3
   },
   "file_extension": ".py",
   "mimetype": "text/x-python",
   "name": "python",
   "nbconvert_exporter": "python",
   "pygments_lexer": "ipython3",
   "version": "3.7.4"
  }
 },
 "nbformat": 4,
 "nbformat_minor": 4
}
