{
 "cells": [
  {
   "cell_type": "code",
   "execution_count": 1,
   "metadata": {},
   "outputs": [
    {
     "name": "stderr",
     "output_type": "stream",
     "text": [
      "\n",
      "Attaching package: ‘dplyr’\n",
      "\n",
      "The following objects are masked from ‘package:stats’:\n",
      "\n",
      "    filter, lag\n",
      "\n",
      "The following objects are masked from ‘package:base’:\n",
      "\n",
      "    intersect, setdiff, setequal, union\n",
      "\n"
     ]
    }
   ],
   "source": [
    "library(ggplot2)\n",
    "library(dplyr)\n",
    "library(RColorBrewer)\n",
    "library(tidyr)\n",
    "library(readr)\n",
    "library(stringr)\n",
    "library(ggbeeswarm)\n",
    "options(scipen = 999)"
   ]
  },
  {
   "cell_type": "code",
   "execution_count": 2,
   "metadata": {},
   "outputs": [],
   "source": [
    "p = ggplot() + \n",
    "    theme_light() + \n",
    "    theme(axis.text.x = element_text(angle = 90, hjust = 1),axis.title.x = element_blank(), axis.title.y = element_text(colour = \"gray30\", size = 9)) +\n",
    "    theme(legend.direction = \"horizontal\", legend.position = \"top\", legend.title = element_blank(), legend.text = element_text(colour = \"gray30\", size = 9))"
   ]
  },
  {
   "cell_type": "code",
   "execution_count": 3,
   "metadata": {},
   "outputs": [],
   "source": [
    "df = read.csv('overhead.csv')\n",
    "df = df %>% mutate(Benchmark = sapply(strsplit(as.character(Benchmark), \"/\"), function(x) if(length(x) == 5) x[5] else x[4]))"
   ]
  },
  {
   "cell_type": "code",
   "execution_count": 4,
   "metadata": {},
   "outputs": [
    {
     "data": {
      "text/html": [
       "<table>\n",
       "<caption>A data.frame: 20 × 8</caption>\n",
       "<thead>\n",
       "\t<tr><th scope=col>Benchmark</th><th scope=col>ORG_Mean</th><th scope=col>Intra_Mean</th><th scope=col>ALP</th><th scope=col>Intra_pvalue</th><th scope=col>Inter_Mean</th><th scope=col>ILP</th><th scope=col>Inter_pvalue</th></tr>\n",
       "\t<tr><th scope=col>&lt;chr&gt;</th><th scope=col>&lt;dbl&gt;</th><th scope=col>&lt;dbl&gt;</th><th scope=col>&lt;dbl&gt;</th><th scope=col>&lt;dbl&gt;</th><th scope=col>&lt;dbl&gt;</th><th scope=col>&lt;dbl&gt;</th><th scope=col>&lt;dbl&gt;</th></tr>\n",
       "</thead>\n",
       "<tbody>\n",
       "\t<tr><td>correlation</td><td>11.760</td><td>11.836</td><td>0.994</td><td>0.000</td><td>11.761</td><td>1.000</td><td>0.964</td></tr>\n",
       "\t<tr><td>covariance </td><td>12.159</td><td>12.173</td><td>0.999</td><td>0.222</td><td>12.149</td><td>1.001</td><td>0.396</td></tr>\n",
       "\t<tr><td>gemm       </td><td>10.131</td><td>13.799</td><td>0.734</td><td>0.000</td><td>10.119</td><td>1.001</td><td>0.475</td></tr>\n",
       "\t<tr><td>gemver     </td><td> 9.502</td><td>10.266</td><td>0.926</td><td>0.000</td><td> 9.553</td><td>0.995</td><td>0.427</td></tr>\n",
       "\t<tr><td>gesummv    </td><td> 5.562</td><td> 5.580</td><td>0.997</td><td>0.000</td><td> 5.555</td><td>1.001</td><td>0.025</td></tr>\n",
       "\t<tr><td>symm       </td><td>96.901</td><td>96.047</td><td>1.009</td><td>0.000</td><td>96.913</td><td>1.000</td><td>0.891</td></tr>\n",
       "\t<tr><td>syrk       </td><td>57.135</td><td>54.707</td><td>1.044</td><td>0.000</td><td>57.135</td><td>1.000</td><td>1.000</td></tr>\n",
       "\t<tr><td>trmm       </td><td>91.703</td><td>90.461</td><td>1.014</td><td>0.000</td><td>91.779</td><td>0.999</td><td>0.623</td></tr>\n",
       "\t<tr><td>2mm        </td><td>11.197</td><td>11.320</td><td>0.989</td><td>0.000</td><td>11.198</td><td>1.000</td><td>0.891</td></tr>\n",
       "\t<tr><td>3mm        </td><td>17.879</td><td>18.046</td><td>0.991</td><td>0.000</td><td>17.880</td><td>1.000</td><td>0.922</td></tr>\n",
       "\t<tr><td>atax       </td><td> 6.238</td><td> 6.519</td><td>0.957</td><td>0.000</td><td> 6.242</td><td>0.999</td><td>0.208</td></tr>\n",
       "\t<tr><td>bicg       </td><td> 7.207</td><td> 7.222</td><td>0.998</td><td>0.320</td><td> 7.202</td><td>1.001</td><td>0.692</td></tr>\n",
       "\t<tr><td>doitgen    </td><td>14.967</td><td>16.303</td><td>0.918</td><td>0.000</td><td>14.902</td><td>1.004</td><td>0.148</td></tr>\n",
       "\t<tr><td>mvt        </td><td> 9.094</td><td> 9.786</td><td>0.929</td><td>0.000</td><td> 9.003</td><td>1.010</td><td>0.270</td></tr>\n",
       "\t<tr><td>cholesky   </td><td>66.846</td><td>64.058</td><td>1.044</td><td>0.000</td><td>66.874</td><td>1.000</td><td>0.318</td></tr>\n",
       "\t<tr><td>gramschmidt</td><td>22.721</td><td>22.729</td><td>1.000</td><td>0.682</td><td>22.733</td><td>0.999</td><td>0.636</td></tr>\n",
       "\t<tr><td>lu         </td><td>82.535</td><td>78.635</td><td>1.050</td><td>0.000</td><td>82.518</td><td>1.000</td><td>0.553</td></tr>\n",
       "\t<tr><td>ludcmp     </td><td>81.397</td><td>76.493</td><td>1.064</td><td>0.000</td><td>81.383</td><td>1.000</td><td>0.670</td></tr>\n",
       "\t<tr><td>trisolv    </td><td> 5.246</td><td> 5.445</td><td>0.964</td><td>0.000</td><td> 5.247</td><td>1.000</td><td>0.582</td></tr>\n",
       "\t<tr><td>fdtd-2d    </td><td> 5.506</td><td> 5.990</td><td>0.919</td><td>0.000</td><td> 5.518</td><td>0.998</td><td>0.109</td></tr>\n",
       "</tbody>\n",
       "</table>\n"
      ],
      "text/latex": [
       "A data.frame: 20 × 8\n",
       "\\begin{tabular}{r|llllllll}\n",
       " Benchmark & ORG\\_Mean & Intra\\_Mean & ALP & Intra\\_pvalue & Inter\\_Mean & ILP & Inter\\_pvalue\\\\\n",
       " <chr> & <dbl> & <dbl> & <dbl> & <dbl> & <dbl> & <dbl> & <dbl>\\\\\n",
       "\\hline\n",
       "\t correlation & 11.760 & 11.836 & 0.994 & 0.000 & 11.761 & 1.000 & 0.964\\\\\n",
       "\t covariance  & 12.159 & 12.173 & 0.999 & 0.222 & 12.149 & 1.001 & 0.396\\\\\n",
       "\t gemm        & 10.131 & 13.799 & 0.734 & 0.000 & 10.119 & 1.001 & 0.475\\\\\n",
       "\t gemver      &  9.502 & 10.266 & 0.926 & 0.000 &  9.553 & 0.995 & 0.427\\\\\n",
       "\t gesummv     &  5.562 &  5.580 & 0.997 & 0.000 &  5.555 & 1.001 & 0.025\\\\\n",
       "\t symm        & 96.901 & 96.047 & 1.009 & 0.000 & 96.913 & 1.000 & 0.891\\\\\n",
       "\t syrk        & 57.135 & 54.707 & 1.044 & 0.000 & 57.135 & 1.000 & 1.000\\\\\n",
       "\t trmm        & 91.703 & 90.461 & 1.014 & 0.000 & 91.779 & 0.999 & 0.623\\\\\n",
       "\t 2mm         & 11.197 & 11.320 & 0.989 & 0.000 & 11.198 & 1.000 & 0.891\\\\\n",
       "\t 3mm         & 17.879 & 18.046 & 0.991 & 0.000 & 17.880 & 1.000 & 0.922\\\\\n",
       "\t atax        &  6.238 &  6.519 & 0.957 & 0.000 &  6.242 & 0.999 & 0.208\\\\\n",
       "\t bicg        &  7.207 &  7.222 & 0.998 & 0.320 &  7.202 & 1.001 & 0.692\\\\\n",
       "\t doitgen     & 14.967 & 16.303 & 0.918 & 0.000 & 14.902 & 1.004 & 0.148\\\\\n",
       "\t mvt         &  9.094 &  9.786 & 0.929 & 0.000 &  9.003 & 1.010 & 0.270\\\\\n",
       "\t cholesky    & 66.846 & 64.058 & 1.044 & 0.000 & 66.874 & 1.000 & 0.318\\\\\n",
       "\t gramschmidt & 22.721 & 22.729 & 1.000 & 0.682 & 22.733 & 0.999 & 0.636\\\\\n",
       "\t lu          & 82.535 & 78.635 & 1.050 & 0.000 & 82.518 & 1.000 & 0.553\\\\\n",
       "\t ludcmp      & 81.397 & 76.493 & 1.064 & 0.000 & 81.383 & 1.000 & 0.670\\\\\n",
       "\t trisolv     &  5.246 &  5.445 & 0.964 & 0.000 &  5.247 & 1.000 & 0.582\\\\\n",
       "\t fdtd-2d     &  5.506 &  5.990 & 0.919 & 0.000 &  5.518 & 0.998 & 0.109\\\\\n",
       "\\end{tabular}\n"
      ],
      "text/markdown": [
       "\n",
       "A data.frame: 20 × 8\n",
       "\n",
       "| Benchmark &lt;chr&gt; | ORG_Mean &lt;dbl&gt; | Intra_Mean &lt;dbl&gt; | ALP &lt;dbl&gt; | Intra_pvalue &lt;dbl&gt; | Inter_Mean &lt;dbl&gt; | ILP &lt;dbl&gt; | Inter_pvalue &lt;dbl&gt; |\n",
       "|---|---|---|---|---|---|---|---|\n",
       "| correlation | 11.760 | 11.836 | 0.994 | 0.000 | 11.761 | 1.000 | 0.964 |\n",
       "| covariance  | 12.159 | 12.173 | 0.999 | 0.222 | 12.149 | 1.001 | 0.396 |\n",
       "| gemm        | 10.131 | 13.799 | 0.734 | 0.000 | 10.119 | 1.001 | 0.475 |\n",
       "| gemver      |  9.502 | 10.266 | 0.926 | 0.000 |  9.553 | 0.995 | 0.427 |\n",
       "| gesummv     |  5.562 |  5.580 | 0.997 | 0.000 |  5.555 | 1.001 | 0.025 |\n",
       "| symm        | 96.901 | 96.047 | 1.009 | 0.000 | 96.913 | 1.000 | 0.891 |\n",
       "| syrk        | 57.135 | 54.707 | 1.044 | 0.000 | 57.135 | 1.000 | 1.000 |\n",
       "| trmm        | 91.703 | 90.461 | 1.014 | 0.000 | 91.779 | 0.999 | 0.623 |\n",
       "| 2mm         | 11.197 | 11.320 | 0.989 | 0.000 | 11.198 | 1.000 | 0.891 |\n",
       "| 3mm         | 17.879 | 18.046 | 0.991 | 0.000 | 17.880 | 1.000 | 0.922 |\n",
       "| atax        |  6.238 |  6.519 | 0.957 | 0.000 |  6.242 | 0.999 | 0.208 |\n",
       "| bicg        |  7.207 |  7.222 | 0.998 | 0.320 |  7.202 | 1.001 | 0.692 |\n",
       "| doitgen     | 14.967 | 16.303 | 0.918 | 0.000 | 14.902 | 1.004 | 0.148 |\n",
       "| mvt         |  9.094 |  9.786 | 0.929 | 0.000 |  9.003 | 1.010 | 0.270 |\n",
       "| cholesky    | 66.846 | 64.058 | 1.044 | 0.000 | 66.874 | 1.000 | 0.318 |\n",
       "| gramschmidt | 22.721 | 22.729 | 1.000 | 0.682 | 22.733 | 0.999 | 0.636 |\n",
       "| lu          | 82.535 | 78.635 | 1.050 | 0.000 | 82.518 | 1.000 | 0.553 |\n",
       "| ludcmp      | 81.397 | 76.493 | 1.064 | 0.000 | 81.383 | 1.000 | 0.670 |\n",
       "| trisolv     |  5.246 |  5.445 | 0.964 | 0.000 |  5.247 | 1.000 | 0.582 |\n",
       "| fdtd-2d     |  5.506 |  5.990 | 0.919 | 0.000 |  5.518 | 0.998 | 0.109 |\n",
       "\n"
      ],
      "text/plain": [
       "   Benchmark   ORG_Mean Intra_Mean ALP   Intra_pvalue Inter_Mean ILP  \n",
       "1  correlation 11.760   11.836     0.994 0.000        11.761     1.000\n",
       "2  covariance  12.159   12.173     0.999 0.222        12.149     1.001\n",
       "3  gemm        10.131   13.799     0.734 0.000        10.119     1.001\n",
       "4  gemver       9.502   10.266     0.926 0.000         9.553     0.995\n",
       "5  gesummv      5.562    5.580     0.997 0.000         5.555     1.001\n",
       "6  symm        96.901   96.047     1.009 0.000        96.913     1.000\n",
       "7  syrk        57.135   54.707     1.044 0.000        57.135     1.000\n",
       "8  trmm        91.703   90.461     1.014 0.000        91.779     0.999\n",
       "9  2mm         11.197   11.320     0.989 0.000        11.198     1.000\n",
       "10 3mm         17.879   18.046     0.991 0.000        17.880     1.000\n",
       "11 atax         6.238    6.519     0.957 0.000         6.242     0.999\n",
       "12 bicg         7.207    7.222     0.998 0.320         7.202     1.001\n",
       "13 doitgen     14.967   16.303     0.918 0.000        14.902     1.004\n",
       "14 mvt          9.094    9.786     0.929 0.000         9.003     1.010\n",
       "15 cholesky    66.846   64.058     1.044 0.000        66.874     1.000\n",
       "16 gramschmidt 22.721   22.729     1.000 0.682        22.733     0.999\n",
       "17 lu          82.535   78.635     1.050 0.000        82.518     1.000\n",
       "18 ludcmp      81.397   76.493     1.064 0.000        81.383     1.000\n",
       "19 trisolv      5.246    5.445     0.964 0.000         5.247     1.000\n",
       "20 fdtd-2d      5.506    5.990     0.919 0.000         5.518     0.998\n",
       "   Inter_pvalue\n",
       "1  0.964       \n",
       "2  0.396       \n",
       "3  0.475       \n",
       "4  0.427       \n",
       "5  0.025       \n",
       "6  0.891       \n",
       "7  1.000       \n",
       "8  0.623       \n",
       "9  0.891       \n",
       "10 0.922       \n",
       "11 0.208       \n",
       "12 0.692       \n",
       "13 0.148       \n",
       "14 0.270       \n",
       "15 0.318       \n",
       "16 0.636       \n",
       "17 0.553       \n",
       "18 0.670       \n",
       "19 0.582       \n",
       "20 0.109       "
      ]
     },
     "metadata": {},
     "output_type": "display_data"
    }
   ],
   "source": [
    "df"
   ]
  },
  {
   "cell_type": "code",
   "execution_count": 5,
   "metadata": {},
   "outputs": [],
   "source": [
    "ov = df %>% select(Benchmark, ALP, ILP) %>% gather(\"Speedup\", \"Values\", 2:3)"
   ]
  },
  {
   "cell_type": "code",
   "execution_count": 6,
   "metadata": {},
   "outputs": [
    {
     "data": {
      "text/html": [
       "<table>\n",
       "<caption>A data.frame: 20 × 8</caption>\n",
       "<thead>\n",
       "\t<tr><th scope=col>Benchmark</th><th scope=col>ORG_Mean</th><th scope=col>Intra_Mean</th><th scope=col>ALP</th><th scope=col>Intra_pvalue</th><th scope=col>Inter_Mean</th><th scope=col>ILP</th><th scope=col>Inter_pvalue</th></tr>\n",
       "\t<tr><th scope=col>&lt;chr&gt;</th><th scope=col>&lt;dbl&gt;</th><th scope=col>&lt;dbl&gt;</th><th scope=col>&lt;dbl&gt;</th><th scope=col>&lt;dbl&gt;</th><th scope=col>&lt;dbl&gt;</th><th scope=col>&lt;dbl&gt;</th><th scope=col>&lt;dbl&gt;</th></tr>\n",
       "</thead>\n",
       "<tbody>\n",
       "\t<tr><td>correlation</td><td>11.760</td><td>11.836</td><td>0.994</td><td>0.000</td><td>11.761</td><td>1.000</td><td>0.964</td></tr>\n",
       "\t<tr><td>covariance </td><td>12.159</td><td>12.173</td><td>0.999</td><td>0.222</td><td>12.149</td><td>1.001</td><td>0.396</td></tr>\n",
       "\t<tr><td>gemm       </td><td>10.131</td><td>13.799</td><td>0.734</td><td>0.000</td><td>10.119</td><td>1.001</td><td>0.475</td></tr>\n",
       "\t<tr><td>gemver     </td><td> 9.502</td><td>10.266</td><td>0.926</td><td>0.000</td><td> 9.553</td><td>0.995</td><td>0.427</td></tr>\n",
       "\t<tr><td>gesummv    </td><td> 5.562</td><td> 5.580</td><td>0.997</td><td>0.000</td><td> 5.555</td><td>1.001</td><td>0.025</td></tr>\n",
       "\t<tr><td>symm       </td><td>96.901</td><td>96.047</td><td>1.009</td><td>0.000</td><td>96.913</td><td>1.000</td><td>0.891</td></tr>\n",
       "\t<tr><td>syrk       </td><td>57.135</td><td>54.707</td><td>1.044</td><td>0.000</td><td>57.135</td><td>1.000</td><td>1.000</td></tr>\n",
       "\t<tr><td>trmm       </td><td>91.703</td><td>90.461</td><td>1.014</td><td>0.000</td><td>91.779</td><td>0.999</td><td>0.623</td></tr>\n",
       "\t<tr><td>2mm        </td><td>11.197</td><td>11.320</td><td>0.989</td><td>0.000</td><td>11.198</td><td>1.000</td><td>0.891</td></tr>\n",
       "\t<tr><td>3mm        </td><td>17.879</td><td>18.046</td><td>0.991</td><td>0.000</td><td>17.880</td><td>1.000</td><td>0.922</td></tr>\n",
       "\t<tr><td>atax       </td><td> 6.238</td><td> 6.519</td><td>0.957</td><td>0.000</td><td> 6.242</td><td>0.999</td><td>0.208</td></tr>\n",
       "\t<tr><td>bicg       </td><td> 7.207</td><td> 7.222</td><td>0.998</td><td>0.320</td><td> 7.202</td><td>1.001</td><td>0.692</td></tr>\n",
       "\t<tr><td>doitgen    </td><td>14.967</td><td>16.303</td><td>0.918</td><td>0.000</td><td>14.902</td><td>1.004</td><td>0.148</td></tr>\n",
       "\t<tr><td>mvt        </td><td> 9.094</td><td> 9.786</td><td>0.929</td><td>0.000</td><td> 9.003</td><td>1.010</td><td>0.270</td></tr>\n",
       "\t<tr><td>cholesky   </td><td>66.846</td><td>64.058</td><td>1.044</td><td>0.000</td><td>66.874</td><td>1.000</td><td>0.318</td></tr>\n",
       "\t<tr><td>gramschmidt</td><td>22.721</td><td>22.729</td><td>1.000</td><td>0.682</td><td>22.733</td><td>0.999</td><td>0.636</td></tr>\n",
       "\t<tr><td>lu         </td><td>82.535</td><td>78.635</td><td>1.050</td><td>0.000</td><td>82.518</td><td>1.000</td><td>0.553</td></tr>\n",
       "\t<tr><td>ludcmp     </td><td>81.397</td><td>76.493</td><td>1.064</td><td>0.000</td><td>81.383</td><td>1.000</td><td>0.670</td></tr>\n",
       "\t<tr><td>trisolv    </td><td> 5.246</td><td> 5.445</td><td>0.964</td><td>0.000</td><td> 5.247</td><td>1.000</td><td>0.582</td></tr>\n",
       "\t<tr><td>fdtd-2d    </td><td> 5.506</td><td> 5.990</td><td>0.919</td><td>0.000</td><td> 5.518</td><td>0.998</td><td>0.109</td></tr>\n",
       "</tbody>\n",
       "</table>\n"
      ],
      "text/latex": [
       "A data.frame: 20 × 8\n",
       "\\begin{tabular}{r|llllllll}\n",
       " Benchmark & ORG\\_Mean & Intra\\_Mean & ALP & Intra\\_pvalue & Inter\\_Mean & ILP & Inter\\_pvalue\\\\\n",
       " <chr> & <dbl> & <dbl> & <dbl> & <dbl> & <dbl> & <dbl> & <dbl>\\\\\n",
       "\\hline\n",
       "\t correlation & 11.760 & 11.836 & 0.994 & 0.000 & 11.761 & 1.000 & 0.964\\\\\n",
       "\t covariance  & 12.159 & 12.173 & 0.999 & 0.222 & 12.149 & 1.001 & 0.396\\\\\n",
       "\t gemm        & 10.131 & 13.799 & 0.734 & 0.000 & 10.119 & 1.001 & 0.475\\\\\n",
       "\t gemver      &  9.502 & 10.266 & 0.926 & 0.000 &  9.553 & 0.995 & 0.427\\\\\n",
       "\t gesummv     &  5.562 &  5.580 & 0.997 & 0.000 &  5.555 & 1.001 & 0.025\\\\\n",
       "\t symm        & 96.901 & 96.047 & 1.009 & 0.000 & 96.913 & 1.000 & 0.891\\\\\n",
       "\t syrk        & 57.135 & 54.707 & 1.044 & 0.000 & 57.135 & 1.000 & 1.000\\\\\n",
       "\t trmm        & 91.703 & 90.461 & 1.014 & 0.000 & 91.779 & 0.999 & 0.623\\\\\n",
       "\t 2mm         & 11.197 & 11.320 & 0.989 & 0.000 & 11.198 & 1.000 & 0.891\\\\\n",
       "\t 3mm         & 17.879 & 18.046 & 0.991 & 0.000 & 17.880 & 1.000 & 0.922\\\\\n",
       "\t atax        &  6.238 &  6.519 & 0.957 & 0.000 &  6.242 & 0.999 & 0.208\\\\\n",
       "\t bicg        &  7.207 &  7.222 & 0.998 & 0.320 &  7.202 & 1.001 & 0.692\\\\\n",
       "\t doitgen     & 14.967 & 16.303 & 0.918 & 0.000 & 14.902 & 1.004 & 0.148\\\\\n",
       "\t mvt         &  9.094 &  9.786 & 0.929 & 0.000 &  9.003 & 1.010 & 0.270\\\\\n",
       "\t cholesky    & 66.846 & 64.058 & 1.044 & 0.000 & 66.874 & 1.000 & 0.318\\\\\n",
       "\t gramschmidt & 22.721 & 22.729 & 1.000 & 0.682 & 22.733 & 0.999 & 0.636\\\\\n",
       "\t lu          & 82.535 & 78.635 & 1.050 & 0.000 & 82.518 & 1.000 & 0.553\\\\\n",
       "\t ludcmp      & 81.397 & 76.493 & 1.064 & 0.000 & 81.383 & 1.000 & 0.670\\\\\n",
       "\t trisolv     &  5.246 &  5.445 & 0.964 & 0.000 &  5.247 & 1.000 & 0.582\\\\\n",
       "\t fdtd-2d     &  5.506 &  5.990 & 0.919 & 0.000 &  5.518 & 0.998 & 0.109\\\\\n",
       "\\end{tabular}\n"
      ],
      "text/markdown": [
       "\n",
       "A data.frame: 20 × 8\n",
       "\n",
       "| Benchmark &lt;chr&gt; | ORG_Mean &lt;dbl&gt; | Intra_Mean &lt;dbl&gt; | ALP &lt;dbl&gt; | Intra_pvalue &lt;dbl&gt; | Inter_Mean &lt;dbl&gt; | ILP &lt;dbl&gt; | Inter_pvalue &lt;dbl&gt; |\n",
       "|---|---|---|---|---|---|---|---|\n",
       "| correlation | 11.760 | 11.836 | 0.994 | 0.000 | 11.761 | 1.000 | 0.964 |\n",
       "| covariance  | 12.159 | 12.173 | 0.999 | 0.222 | 12.149 | 1.001 | 0.396 |\n",
       "| gemm        | 10.131 | 13.799 | 0.734 | 0.000 | 10.119 | 1.001 | 0.475 |\n",
       "| gemver      |  9.502 | 10.266 | 0.926 | 0.000 |  9.553 | 0.995 | 0.427 |\n",
       "| gesummv     |  5.562 |  5.580 | 0.997 | 0.000 |  5.555 | 1.001 | 0.025 |\n",
       "| symm        | 96.901 | 96.047 | 1.009 | 0.000 | 96.913 | 1.000 | 0.891 |\n",
       "| syrk        | 57.135 | 54.707 | 1.044 | 0.000 | 57.135 | 1.000 | 1.000 |\n",
       "| trmm        | 91.703 | 90.461 | 1.014 | 0.000 | 91.779 | 0.999 | 0.623 |\n",
       "| 2mm         | 11.197 | 11.320 | 0.989 | 0.000 | 11.198 | 1.000 | 0.891 |\n",
       "| 3mm         | 17.879 | 18.046 | 0.991 | 0.000 | 17.880 | 1.000 | 0.922 |\n",
       "| atax        |  6.238 |  6.519 | 0.957 | 0.000 |  6.242 | 0.999 | 0.208 |\n",
       "| bicg        |  7.207 |  7.222 | 0.998 | 0.320 |  7.202 | 1.001 | 0.692 |\n",
       "| doitgen     | 14.967 | 16.303 | 0.918 | 0.000 | 14.902 | 1.004 | 0.148 |\n",
       "| mvt         |  9.094 |  9.786 | 0.929 | 0.000 |  9.003 | 1.010 | 0.270 |\n",
       "| cholesky    | 66.846 | 64.058 | 1.044 | 0.000 | 66.874 | 1.000 | 0.318 |\n",
       "| gramschmidt | 22.721 | 22.729 | 1.000 | 0.682 | 22.733 | 0.999 | 0.636 |\n",
       "| lu          | 82.535 | 78.635 | 1.050 | 0.000 | 82.518 | 1.000 | 0.553 |\n",
       "| ludcmp      | 81.397 | 76.493 | 1.064 | 0.000 | 81.383 | 1.000 | 0.670 |\n",
       "| trisolv     |  5.246 |  5.445 | 0.964 | 0.000 |  5.247 | 1.000 | 0.582 |\n",
       "| fdtd-2d     |  5.506 |  5.990 | 0.919 | 0.000 |  5.518 | 0.998 | 0.109 |\n",
       "\n"
      ],
      "text/plain": [
       "   Benchmark   ORG_Mean Intra_Mean ALP   Intra_pvalue Inter_Mean ILP  \n",
       "1  correlation 11.760   11.836     0.994 0.000        11.761     1.000\n",
       "2  covariance  12.159   12.173     0.999 0.222        12.149     1.001\n",
       "3  gemm        10.131   13.799     0.734 0.000        10.119     1.001\n",
       "4  gemver       9.502   10.266     0.926 0.000         9.553     0.995\n",
       "5  gesummv      5.562    5.580     0.997 0.000         5.555     1.001\n",
       "6  symm        96.901   96.047     1.009 0.000        96.913     1.000\n",
       "7  syrk        57.135   54.707     1.044 0.000        57.135     1.000\n",
       "8  trmm        91.703   90.461     1.014 0.000        91.779     0.999\n",
       "9  2mm         11.197   11.320     0.989 0.000        11.198     1.000\n",
       "10 3mm         17.879   18.046     0.991 0.000        17.880     1.000\n",
       "11 atax         6.238    6.519     0.957 0.000         6.242     0.999\n",
       "12 bicg         7.207    7.222     0.998 0.320         7.202     1.001\n",
       "13 doitgen     14.967   16.303     0.918 0.000        14.902     1.004\n",
       "14 mvt          9.094    9.786     0.929 0.000         9.003     1.010\n",
       "15 cholesky    66.846   64.058     1.044 0.000        66.874     1.000\n",
       "16 gramschmidt 22.721   22.729     1.000 0.682        22.733     0.999\n",
       "17 lu          82.535   78.635     1.050 0.000        82.518     1.000\n",
       "18 ludcmp      81.397   76.493     1.064 0.000        81.383     1.000\n",
       "19 trisolv      5.246    5.445     0.964 0.000         5.247     1.000\n",
       "20 fdtd-2d      5.506    5.990     0.919 0.000         5.518     0.998\n",
       "   Inter_pvalue\n",
       "1  0.964       \n",
       "2  0.396       \n",
       "3  0.475       \n",
       "4  0.427       \n",
       "5  0.025       \n",
       "6  0.891       \n",
       "7  1.000       \n",
       "8  0.623       \n",
       "9  0.891       \n",
       "10 0.922       \n",
       "11 0.208       \n",
       "12 0.692       \n",
       "13 0.148       \n",
       "14 0.270       \n",
       "15 0.318       \n",
       "16 0.636       \n",
       "17 0.553       \n",
       "18 0.670       \n",
       "19 0.582       \n",
       "20 0.109       "
      ]
     },
     "metadata": {},
     "output_type": "display_data"
    }
   ],
   "source": [
    "df"
   ]
  },
  {
   "cell_type": "code",
   "execution_count": 11,
   "metadata": {},
   "outputs": [
    {
     "data": {
      "image/png": "[encoded data removed]",
      "text/plain": [
       "plot without title"
      ]
     },
     "metadata": {},
     "output_type": "display_data"
    }
   ],
   "source": [
    "p + \n",
    "    geom_point(data = ov, aes(x = Benchmark, y = Values, fill = Speedup, shape = Speedup, colour = Speedup), size = 2) +\n",
    "    ylab('') + xlab('') +\n",
    "    scale_shape_manual(values = c(0, 2)) +\n",
    "    scale_y_continuous(trans = \"reverse\", limits = c(1.1, 0.7)) +\n",
    "    guides(colour = FALSE) +\n",
    "#     ylim(1.1, 0.7) +\n",
    "    theme(legend.position = \"none\") +\n",
    "    theme(axis.text.x = element_text(angle = 45, vjust=1, hjust=1)) +\n",
    "    theme(axis.text.y=element_blank(), axis.ticks.y = element_blank()) +\n",
    "    scale_x_discrete(labels = c('2mm', '3mm', 'atax', 'bicg', 'cholesky', 'corr',\n",
    "                                'cov', 'doitgen', 'fdtd-2d', 'gemm', 'gemv',\n",
    "                                'gesummv', 'gram', 'lu', 'ludcmp', 'mvt', 'symm',\n",
    "                                'syrk', 'trisolv', 'trmm')) +\n",
    "    ggsave('rq3_overhead_big.pdf', device='pdf', width = 8, height = 3)\n"
   ]
  },
  {
   "cell_type": "code",
   "execution_count": null,
   "metadata": {},
   "outputs": [],
   "source": []
  },
  {
   "cell_type": "code",
   "execution_count": null,
   "metadata": {},
   "outputs": [],
   "source": []
  },
  {
   "cell_type": "code",
   "execution_count": null,
   "metadata": {},
   "outputs": [],
   "source": []
  }
 ],
 "metadata": {
  "kernelspec": {
   "display_name": "R",
   "language": "R",
   "name": "ir"
  },
  "language_info": {
   "codemirror_mode": "r",
   "file_extension": ".r",
   "mimetype": "text/x-r-source",
   "name": "R",
   "pygments_lexer": "r",
   "version": "3.6.1"
  }
 },
 "nbformat": 4,
 "nbformat_minor": 4
}
