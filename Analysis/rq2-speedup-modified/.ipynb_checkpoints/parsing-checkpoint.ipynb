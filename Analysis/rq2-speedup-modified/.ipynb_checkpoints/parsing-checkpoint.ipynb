{
 "cells": [
  {
   "cell_type": "code",
   "execution_count": 1,
   "metadata": {},
   "outputs": [],
   "source": [
    "import pandas as pd"
   ]
  },
  {
   "cell_type": "code",
   "execution_count": 19,
   "metadata": {
    "collapsed": true,
    "jupyter": {
     "outputs_hidden": true
    }
   },
   "outputs": [
    {
     "data": {
      "text/plain": [
       "['[INFO] Normalized time: 5.43823266\\n',\n",
       " '[INFO] Maximal deviation from arithmetic mean of 3 average runs: 0.01800%\\n',\n",
       " '[INFO] Maximal variance authorized on 3 average runs: 5%...\\n',\n",
       " '[INFO] Running 5 times ./linear-algebra/kernels/doitgen/doitgen.exe...\\n',\n",
       " './linear-algebra/kernels/bicg/ess_bicg.exe\\n',\n",
       " '[INFO] Normalized time: 2.25311766\\n',\n",
       " '[INFO] Maximal deviation from arithmetic mean of 3 average runs: 0.00600%\\n',\n",
       " '[INFO] Maximal variance authorized on 3 average runs: 5%...\\n',\n",
       " '[INFO] Running 5 times ./linear-algebra/kernels/bicg/bicg.exe...\\n',\n",
       " './linear-algebra/kernels/atax/ess_atax.exe\\n',\n",
       " '[INFO] Normalized time: 1.76589800\\n',\n",
       " '[INFO] Maximal deviation from arithmetic mean of 3 average runs: 0.19500%\\n',\n",
       " '[INFO] Maximal variance authorized on 3 average runs: 5%...\\n',\n",
       " '[INFO] Running 5 times ./linear-algebra/kernels/atax/plp_atax.exe...\\n',\n",
       " './linear-algebra/kernels/mvt/mvt.exe\\n',\n",
       " '[INFO] Normalized time: 6.85045600\\n',\n",
       " '[INFO] Maximal deviation from arithmetic mean of 3 average runs: 0.32200%\\n',\n",
       " '[INFO] Maximal variance authorized on 3 average runs: 5%...\\n',\n",
       " '[INFO] Running 5 times ./linear-algebra/kernels/mvt/ess_mvt.exe...\\n',\n",
       " './linear-algebra/kernels/3mm/3mm.exe\\n',\n",
       " '[INFO] Normalized time: 17.07956200\\n',\n",
       " '[INFO] Maximal deviation from arithmetic mean of 3 average runs: 0.09200%\\n',\n",
       " '[INFO] Maximal variance authorized on 3 average runs: 5%...\\n',\n",
       " '[INFO] Running 5 times ./linear-algebra/kernels/3mm/ess_3mm.exe...\\n',\n",
       " './linear-algebra/kernels/2mm/plp_2mm.exe\\n',\n",
       " '[INFO] Normalized time: 10.29791866\\n',\n",
       " '[INFO] Maximal deviation from arithmetic mean of 3 average runs: 0.11400%\\n',\n",
       " '[INFO] Maximal variance authorized on 3 average runs: 5%...\\n',\n",
       " '[INFO] Running 5 times ./linear-algebra/kernels/2mm/eae_2mm.exe...\\n',\n",
       " './linear-algebra/blas/trmm/plp_trmm.exe\\n',\n",
       " '[INFO] Normalized time: 87.65758933\\n',\n",
       " '[INFO] Maximal deviation from arithmetic mean of 3 average runs: 0.11200%\\n',\n",
       " '[INFO] Maximal variance authorized on 3 average runs: 5%...\\n',\n",
       " '[INFO] Running 5 times ./linear-algebra/blas/trmm/eae_trmm.exe...\\n',\n",
       " './linear-algebra/blas/syrk/ess_syrk.exe\\n',\n",
       " '[INFO] Normalized time: 48.35535900\\n',\n",
       " '[INFO] Maximal deviation from arithmetic mean of 3 average runs: 0.03600%\\n',\n",
       " '[INFO] Maximal variance authorized on 3 average runs: 5%...\\n',\n",
       " '[INFO] Running 5 times ./linear-algebra/blas/symm/plp_symm.exe...\\n',\n",
       " './linear-algebra/blas/symm/ess_symm.exe\\n',\n",
       " '[INFO] Normalized time: 91.15344733\\n',\n",
       " '[INFO] Maximal deviation from arithmetic mean of 3 average runs: 0.08000%\\n',\n",
       " '[INFO] Maximal variance authorized on 3 average runs: 5%...\\n',\n",
       " '[INFO] Running 5 times ./linear-algebra/blas/gesummv/eae_gesummv.exe...\\n',\n",
       " './linear-algebra/blas/gesummv/gesummv.exe\\n',\n",
       " '[INFO] Normalized time: 0.97636400\\n',\n",
       " '[INFO] Maximal deviation from arithmetic mean of 3 average runs: 0.02400%\\n',\n",
       " '[INFO] Maximal variance authorized on 3 average runs: 5%...\\n',\n",
       " '[INFO] Running 5 times ./linear-algebra/blas/gemver/eae_gemver.exe...\\n',\n",
       " './linear-algebra/blas/gemver/plp_gemver.exe\\n',\n",
       " '[INFO] Normalized time: 7.38225400\\n',\n",
       " '[INFO] Maximal deviation from arithmetic mean of 3 average runs: 0.15700%\\n',\n",
       " '[INFO] Maximal variance authorized on 3 average runs: 5%...\\n',\n",
       " '[INFO] Running 5 times ./linear-algebra/blas/gemm/plp_gemm.exe...\\n',\n",
       " './linear-algebra/blas/gemm/gemm.exe\\n',\n",
       " '[INFO] Normalized time: 6.36678766\\n',\n",
       " '[INFO] Maximal deviation from arithmetic mean of 3 average runs: 0.06400%\\n',\n",
       " '[INFO] Maximal variance authorized on 3 average runs: 5%...\\n',\n",
       " '[INFO] Running 5 times ./linear-algebra/solvers/cholesky/ess_cholesky.exe...\\n',\n",
       " './linear-algebra/solvers/cholesky/cholesky.exe\\n',\n",
       " '[INFO] Normalized time: 1.16909166\\n',\n",
       " '[INFO] Maximal deviation from arithmetic mean of 3 average runs: 0.00900%\\n',\n",
       " '[INFO] Maximal variance authorized on 3 average runs: 5%...\\n',\n",
       " '[INFO] Running 5 times ./linear-algebra/solvers/ludcmp/ludcmp.exe...\\n',\n",
       " './linear-algebra/solvers/ludcmp/eae_ludcmp.exe\\n',\n",
       " '[INFO] Normalized time: 16.81544200\\n',\n",
       " '[INFO] Maximal deviation from arithmetic mean of 3 average runs: 0.13600%\\n',\n",
       " '[INFO] Maximal variance authorized on 3 average runs: 5%...\\n',\n",
       " '[INFO] Running 5 times ./linear-algebra/solvers/lu/eae_lu.exe...\\n',\n",
       " './linear-algebra/solvers/lu/plp_lu.exe\\n',\n",
       " '[INFO] Normalized time: 16.29438700\\n',\n",
       " '[INFO] Maximal deviation from arithmetic mean of 3 average runs: 0.43500%\\n',\n",
       " '[INFO] Maximal variance authorized on 3 average runs: 5%...\\n',\n",
       " '[INFO] Running 5 times ./linear-algebra/solvers/trisolv/plp_trisolv.exe...\\n',\n",
       " './linear-algebra/solvers/trisolv/ess_trisolv.exe\\n',\n",
       " '[INFO] Normalized time: 0.86161966\\n',\n",
       " '[INFO] Maximal deviation from arithmetic mean of 3 average runs: 0.01200%\\n',\n",
       " '[INFO] Maximal variance authorized on 3 average runs: 5%...\\n',\n",
       " '[INFO] Running 5 times ./linear-algebra/solvers/gramschmidt/gramschmidt.exe...\\n',\n",
       " './linear-algebra/solvers/gramschmidt/plp_gramschmidt.exe\\n',\n",
       " '[INFO] Normalized time: 20.04391766\\n',\n",
       " '[INFO] Maximal deviation from arithmetic mean of 3 average runs: 0.37200%\\n',\n",
       " '[INFO] Maximal variance authorized on 3 average runs: 5%...\\n',\n",
       " '[INFO] Running 5 times ./datamining/covariance/covariance.exe...\\n',\n",
       " './datamining/covariance/ess_covariance.exe\\n',\n",
       " '[INFO] Normalized time: 10.69854766\\n',\n",
       " '[INFO] Maximal deviation from arithmetic mean of 3 average runs: 0.43600%\\n',\n",
       " '[INFO] Maximal variance authorized on 3 average runs: 5%...\\n',\n",
       " '[INFO] Running 5 times ./datamining/correlation/ess_correlation.exe...\\n',\n",
       " './datamining/correlation/correlation.exe\\n',\n",
       " '[INFO] Normalized time: 10.85362800\\n',\n",
       " '[INFO] Maximal deviation from arithmetic mean of 3 average runs: 0.16500%\\n',\n",
       " '[INFO] Maximal variance authorized on 3 average runs: 5%...\\n',\n",
       " '[INFO] Running 5 times ./stencils/fdtd-2d/plp_fdtd-2d.exe...\\n',\n",
       " './stencils/fdtd-2d/fdtd-2d.exe\\n',\n",
       " '[INFO] Normalized time: 2.65437966\\n',\n",
       " '[INFO] Maximal deviation from arithmetic mean of 3 average runs: 0.04300%\\n',\n",
       " '[INFO] Maximal variance authorized on 3 average runs: 5%...\\n']"
      ]
     },
     "execution_count": 19,
     "metadata": {},
     "output_type": "execute_result"
    }
   ],
   "source": [
    "time"
   ]
  },
  {
   "cell_type": "code",
   "execution_count": 35,
   "metadata": {},
   "outputs": [],
   "source": [
    "name = []\n",
    "time = []\n",
    "i = 0\n",
    "with open(\"saida.txt\") as f:\n",
    "    for line in f:\n",
    "        if i == 0:\n",
    "            name.append(line.split('/')[-1].strip().strip('.exe'))\n",
    "        if i == 4:\n",
    "            time.append(float(line.split(' ')[-1].strip()))\n",
    "        i += 1\n",
    "        if i == 5:\n",
    "            i = 0"
   ]
  },
  {
   "cell_type": "code",
   "execution_count": 59,
   "metadata": {},
   "outputs": [],
   "source": [
    "tipo = []\n",
    "benchmark = []\n",
    "for n in name:\n",
    "    if len(n.split('_')) == 1:\n",
    "        t, b = 'org', n \n",
    "    else:\n",
    "        t, b = n.split('_')\n",
    "    tipo.append(t.upper())\n",
    "    benchmark.append(b)"
   ]
  },
  {
   "cell_type": "code",
   "execution_count": 62,
   "metadata": {},
   "outputs": [],
   "source": [
    "df = pd.DataFrame(data = {\n",
    "    'benchmark': benchmark,\n",
    "    'type': tipo,\n",
    "    'time': time,\n",
    "})"
   ]
  },
  {
   "cell_type": "code",
   "execution_count": 63,
   "metadata": {},
   "outputs": [],
   "source": [
    "df.to_csv('data.csv', index=False, float_format='%.3f')"
   ]
  }
 ],
 "metadata": {
  "kernelspec": {
   "display_name": "Python 3",
   "language": "python",
   "name": "python3"
  },
  "language_info": {
   "codemirror_mode": {
    "name": "ipython",
    "version": 3
   },
   "file_extension": ".py",
   "mimetype": "text/x-python",
   "name": "python",
   "nbconvert_exporter": "python",
   "pygments_lexer": "ipython3",
   "version": "3.7.4"
  }
 },
 "nbformat": 4,
 "nbformat_minor": 4
}
