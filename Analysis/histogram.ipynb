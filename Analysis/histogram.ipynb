{
 "cells": [
  {
   "cell_type": "code",
   "execution_count": 27,
   "metadata": {},
   "outputs": [],
   "source": [
    "import pandas as pd\n",
    "import numpy as np\n",
    "from plotnine import *\n",
    "\n",
    "pd.set_option('display.float_format', lambda x: '%.3f' % x)"
   ]
  },
  {
   "cell_type": "code",
   "execution_count": 2,
   "metadata": {},
   "outputs": [],
   "source": [
    "%%bash\n",
    "rm -f arith.txt\n",
    "find Benchs -name 'arith.txt' >> arith.txt"
   ]
  },
  {
   "cell_type": "code",
   "execution_count": 3,
   "metadata": {},
   "outputs": [],
   "source": [
    "files = []\n",
    "with open('arith.txt') as f:\n",
    "    for line in f:\n",
    "        files.append(line.strip())"
   ]
  },
  {
   "cell_type": "code",
   "execution_count": 4,
   "metadata": {},
   "outputs": [],
   "source": [
    "insts = ['Add', 'Sub', 'Xor', 'Shl', 'LShr', 'AShr', 'Mul', 'UDiv', 'SDiv', 'And', 'Or']\n",
    "header = insts + [ x + '_total' for x in insts]"
   ]
  },
  {
   "cell_type": "code",
   "execution_count": 100,
   "metadata": {},
   "outputs": [],
   "source": [
    "df = pd.DataFrame(columns=['Benchmark', 'Group'] + header)\n",
    "for f in files:\n",
    "    df2 = pd.read_csv(f, header=None).transpose()\n",
    "    df2.columns = df2.iloc[0]\n",
    "    df2 = df2[1:]\n",
    "    d = dict()\n",
    "    for h in insts:\n",
    "        try:\n",
    "            d[h] = float(df2.iloc[0][h])/float(df2.iloc[1][h])\n",
    "        except:\n",
    "            d[h] = 0.0\n",
    "        d[h + '_total'] = df2.iloc[1][h]\n",
    "    d['Benchmark'] = f.split('/')[1] if len(f.split('/')) == 3 else f.split('/')[2]\n",
    "    d['Group'] = f.split('/')[1]\n",
    "    df = df.append(d, ignore_index=True)\n",
    "\n",
    "df = df.round(3)\n",
    "\n",
    "\n",
    "for h in insts:\n",
    "    df[h + '_total'] = df[h + '_total'].astype(np.int64)"
   ]
  },
  {
   "cell_type": "code",
   "execution_count": 101,
   "metadata": {},
   "outputs": [
    {
     "data": {
      "text/html": [
       "<div>\n",
       "<style scoped>\n",
       "    .dataframe tbody tr th:only-of-type {\n",
       "        vertical-align: middle;\n",
       "    }\n",
       "\n",
       "    .dataframe tbody tr th {\n",
       "        vertical-align: top;\n",
       "    }\n",
       "\n",
       "    .dataframe thead th {\n",
       "        text-align: right;\n",
       "    }\n",
       "</style>\n",
       "<table border=\"1\" class=\"dataframe\">\n",
       "  <thead>\n",
       "    <tr style=\"text-align: right;\">\n",
       "      <th></th>\n",
       "      <th>Benchmark</th>\n",
       "      <th>Group</th>\n",
       "      <th>Add</th>\n",
       "      <th>Sub</th>\n",
       "      <th>Xor</th>\n",
       "      <th>Shl</th>\n",
       "      <th>LShr</th>\n",
       "      <th>AShr</th>\n",
       "      <th>Mul</th>\n",
       "      <th>UDiv</th>\n",
       "      <th>...</th>\n",
       "      <th>Sub_total</th>\n",
       "      <th>Xor_total</th>\n",
       "      <th>Shl_total</th>\n",
       "      <th>LShr_total</th>\n",
       "      <th>AShr_total</th>\n",
       "      <th>Mul_total</th>\n",
       "      <th>UDiv_total</th>\n",
       "      <th>SDiv_total</th>\n",
       "      <th>And_total</th>\n",
       "      <th>Or_total</th>\n",
       "    </tr>\n",
       "  </thead>\n",
       "  <tbody>\n",
       "    <tr>\n",
       "      <th>0</th>\n",
       "      <td>mandel-2</td>\n",
       "      <td>Misc</td>\n",
       "      <td>0.000</td>\n",
       "      <td>0.000</td>\n",
       "      <td>0.000</td>\n",
       "      <td>0.000</td>\n",
       "      <td>0.000</td>\n",
       "      <td>0.000</td>\n",
       "      <td>0.000</td>\n",
       "      <td>0.000</td>\n",
       "      <td>...</td>\n",
       "      <td>0</td>\n",
       "      <td>0</td>\n",
       "      <td>0</td>\n",
       "      <td>0</td>\n",
       "      <td>0</td>\n",
       "      <td>0</td>\n",
       "      <td>0</td>\n",
       "      <td>0</td>\n",
       "      <td>313683990</td>\n",
       "      <td>0</td>\n",
       "    </tr>\n",
       "    <tr>\n",
       "      <th>1</th>\n",
       "      <td>dt</td>\n",
       "      <td>Misc</td>\n",
       "      <td>0.002</td>\n",
       "      <td>0.000</td>\n",
       "      <td>0.000</td>\n",
       "      <td>0.000</td>\n",
       "      <td>0.000</td>\n",
       "      <td>0.000</td>\n",
       "      <td>0.000</td>\n",
       "      <td>0.000</td>\n",
       "      <td>...</td>\n",
       "      <td>2048</td>\n",
       "      <td>0</td>\n",
       "      <td>0</td>\n",
       "      <td>0</td>\n",
       "      <td>0</td>\n",
       "      <td>0</td>\n",
       "      <td>0</td>\n",
       "      <td>0</td>\n",
       "      <td>0</td>\n",
       "      <td>67108864</td>\n",
       "    </tr>\n",
       "    <tr>\n",
       "      <th>2</th>\n",
       "      <td>flops-5</td>\n",
       "      <td>Misc</td>\n",
       "      <td>0.000</td>\n",
       "      <td>0.000</td>\n",
       "      <td>0.000</td>\n",
       "      <td>0.000</td>\n",
       "      <td>0.000</td>\n",
       "      <td>0.000</td>\n",
       "      <td>0.000</td>\n",
       "      <td>0.000</td>\n",
       "      <td>...</td>\n",
       "      <td>0</td>\n",
       "      <td>0</td>\n",
       "      <td>0</td>\n",
       "      <td>0</td>\n",
       "      <td>0</td>\n",
       "      <td>0</td>\n",
       "      <td>0</td>\n",
       "      <td>0</td>\n",
       "      <td>0</td>\n",
       "      <td>0</td>\n",
       "    </tr>\n",
       "    <tr>\n",
       "      <th>3</th>\n",
       "      <td>flops-2</td>\n",
       "      <td>Misc</td>\n",
       "      <td>0.000</td>\n",
       "      <td>0.000</td>\n",
       "      <td>0.000</td>\n",
       "      <td>0.000</td>\n",
       "      <td>0.000</td>\n",
       "      <td>0.000</td>\n",
       "      <td>0.000</td>\n",
       "      <td>0.000</td>\n",
       "      <td>...</td>\n",
       "      <td>0</td>\n",
       "      <td>0</td>\n",
       "      <td>0</td>\n",
       "      <td>0</td>\n",
       "      <td>0</td>\n",
       "      <td>0</td>\n",
       "      <td>0</td>\n",
       "      <td>0</td>\n",
       "      <td>0</td>\n",
       "      <td>0</td>\n",
       "    </tr>\n",
       "    <tr>\n",
       "      <th>4</th>\n",
       "      <td>oourafft</td>\n",
       "      <td>Misc</td>\n",
       "      <td>0.010</td>\n",
       "      <td>0.024</td>\n",
       "      <td>0.000</td>\n",
       "      <td>0.027</td>\n",
       "      <td>1.000</td>\n",
       "      <td>0.000</td>\n",
       "      <td>0.000</td>\n",
       "      <td>0.000</td>\n",
       "      <td>...</td>\n",
       "      <td>36900527</td>\n",
       "      <td>0</td>\n",
       "      <td>173103054</td>\n",
       "      <td>300004</td>\n",
       "      <td>1200015</td>\n",
       "      <td>1806162</td>\n",
       "      <td>0</td>\n",
       "      <td>0</td>\n",
       "      <td>1800021</td>\n",
       "      <td>607657355</td>\n",
       "    </tr>\n",
       "  </tbody>\n",
       "</table>\n",
       "<p>5 rows × 24 columns</p>\n",
       "</div>"
      ],
      "text/plain": [
       "  Benchmark Group   Add   Sub   Xor   Shl  LShr  AShr   Mul  UDiv    ...      \\\n",
       "0  mandel-2  Misc 0.000 0.000 0.000 0.000 0.000 0.000 0.000 0.000    ...       \n",
       "1        dt  Misc 0.002 0.000 0.000 0.000 0.000 0.000 0.000 0.000    ...       \n",
       "2   flops-5  Misc 0.000 0.000 0.000 0.000 0.000 0.000 0.000 0.000    ...       \n",
       "3   flops-2  Misc 0.000 0.000 0.000 0.000 0.000 0.000 0.000 0.000    ...       \n",
       "4  oourafft  Misc 0.010 0.024 0.000 0.027 1.000 0.000 0.000 0.000    ...       \n",
       "\n",
       "   Sub_total  Xor_total  Shl_total  LShr_total  AShr_total  Mul_total  \\\n",
       "0          0          0          0           0           0          0   \n",
       "1       2048          0          0           0           0          0   \n",
       "2          0          0          0           0           0          0   \n",
       "3          0          0          0           0           0          0   \n",
       "4   36900527          0  173103054      300004     1200015    1806162   \n",
       "\n",
       "   UDiv_total  SDiv_total  And_total   Or_total  \n",
       "0           0           0  313683990          0  \n",
       "1           0           0          0   67108864  \n",
       "2           0           0          0          0  \n",
       "3           0           0          0          0  \n",
       "4           0           0    1800021  607657355  \n",
       "\n",
       "[5 rows x 24 columns]"
      ]
     },
     "execution_count": 101,
     "metadata": {},
     "output_type": "execute_result"
    }
   ],
   "source": [
    "df.head()"
   ]
  },
  {
   "cell_type": "code",
   "execution_count": 61,
   "metadata": {},
   "outputs": [],
   "source": []
  },
  {
   "cell_type": "code",
   "execution_count": null,
   "metadata": {},
   "outputs": [],
   "source": []
  },
  {
   "cell_type": "code",
   "execution_count": 51,
   "metadata": {},
   "outputs": [],
   "source": [
    "# df.to_clipboard(float_format='%.3f')"
   ]
  },
  {
   "cell_type": "code",
   "execution_count": null,
   "metadata": {},
   "outputs": [],
   "source": []
  },
  {
   "cell_type": "code",
   "execution_count": null,
   "metadata": {},
   "outputs": [],
   "source": []
  },
  {
   "cell_type": "code",
   "execution_count": 135,
   "metadata": {},
   "outputs": [
    {
     "data": {
      "image/png": "[encoded data removed]",
      "text/plain": [
       "<Figure size 640x480 with 1 Axes>"
      ]
     },
     "metadata": {},
     "output_type": "display_data"
    },
    {
     "data": {
      "text/plain": [
       "<ggplot: (282715575)>"
      ]
     },
     "execution_count": 135,
     "metadata": {},
     "output_type": "execute_result"
    }
   ],
   "source": [
    "(ggplot(df[(df.Add > 0.2) & (df.Add_total > 100)])\n",
    " + scale_x_log10()\n",
    " + geom_point(aes(x='Add_total', y='Add', fill='Benchmark'), stroke=0.02, size=3)\n",
    " + ylim((0, 1.0))\n",
    ")"
   ]
  },
  {
   "cell_type": "code",
   "execution_count": 20,
   "metadata": {},
   "outputs": [],
   "source": []
  },
  {
   "cell_type": "code",
   "execution_count": 119,
   "metadata": {},
   "outputs": [
    {
     "data": {
      "image/png": "[encoded data removed]",
      "text/plain": [
       "<Figure size 640x480 with 1 Axes>"
      ]
     },
     "metadata": {},
     "output_type": "display_data"
    },
    {
     "data": {
      "text/plain": [
       "<ggplot: (-9223372036573423037)>"
      ]
     },
     "execution_count": 119,
     "metadata": {},
     "output_type": "execute_result"
    }
   ],
   "source": [
    "(ggplot(df[(df.Add > 0.2) & (df.Add_total > 100)], aes(x='Add'))\n",
    " + geom_histogram(aes(fill='Benchmark'), bins=10)\n",
    ")"
   ]
  },
  {
   "cell_type": "code",
   "execution_count": 129,
   "metadata": {},
   "outputs": [
    {
     "data": {
      "text/html": [
       "<div>\n",
       "<style scoped>\n",
       "    .dataframe tbody tr th:only-of-type {\n",
       "        vertical-align: middle;\n",
       "    }\n",
       "\n",
       "    .dataframe tbody tr th {\n",
       "        vertical-align: top;\n",
       "    }\n",
       "\n",
       "    .dataframe thead th {\n",
       "        text-align: right;\n",
       "    }\n",
       "</style>\n",
       "<table border=\"1\" class=\"dataframe\">\n",
       "  <thead>\n",
       "    <tr style=\"text-align: right;\">\n",
       "      <th></th>\n",
       "      <th>Group</th>\n",
       "      <th>Benchmark</th>\n",
       "      <th>Add</th>\n",
       "      <th>Add_total</th>\n",
       "    </tr>\n",
       "  </thead>\n",
       "  <tbody>\n",
       "    <tr>\n",
       "      <th>9</th>\n",
       "      <td>Misc</td>\n",
       "      <td>mandel</td>\n",
       "      <td>0.500</td>\n",
       "      <td>50005000</td>\n",
       "    </tr>\n",
       "    <tr>\n",
       "      <th>29</th>\n",
       "      <td>Prolangs-C</td>\n",
       "      <td>fixoutput</td>\n",
       "      <td>1.000</td>\n",
       "      <td>1</td>\n",
       "    </tr>\n",
       "    <tr>\n",
       "      <th>31</th>\n",
       "      <td>Prolangs-C</td>\n",
       "      <td>unix-smail</td>\n",
       "      <td>0.488</td>\n",
       "      <td>43</td>\n",
       "    </tr>\n",
       "    <tr>\n",
       "      <th>160</th>\n",
       "      <td>McGill</td>\n",
       "      <td>misr</td>\n",
       "      <td>0.493</td>\n",
       "      <td>40800011</td>\n",
       "    </tr>\n",
       "    <tr>\n",
       "      <th>176</th>\n",
       "      <td>McCat</td>\n",
       "      <td>17-bintr</td>\n",
       "      <td>0.499</td>\n",
       "      <td>180200</td>\n",
       "    </tr>\n",
       "    <tr>\n",
       "      <th>200</th>\n",
       "      <td>Olden</td>\n",
       "      <td>tsp</td>\n",
       "      <td>1.000</td>\n",
       "      <td>1048577</td>\n",
       "    </tr>\n",
       "    <tr>\n",
       "      <th>207</th>\n",
       "      <td>Olden</td>\n",
       "      <td>treeadd</td>\n",
       "      <td>0.500</td>\n",
       "      <td>4194300</td>\n",
       "    </tr>\n",
       "  </tbody>\n",
       "</table>\n",
       "</div>"
      ],
      "text/plain": [
       "          Group   Benchmark   Add  Add_total\n",
       "9          Misc      mandel 0.500   50005000\n",
       "29   Prolangs-C   fixoutput 1.000          1\n",
       "31   Prolangs-C  unix-smail 0.488         43\n",
       "160      McGill        misr 0.493   40800011\n",
       "176       McCat    17-bintr 0.499     180200\n",
       "200       Olden         tsp 1.000    1048577\n",
       "207       Olden     treeadd 0.500    4194300"
      ]
     },
     "execution_count": 129,
     "metadata": {},
     "output_type": "execute_result"
    }
   ],
   "source": [
    "df.query('Add > 0.4')[['Group', 'Benchmark', 'Add', 'Add_total']]"
   ]
  },
  {
   "cell_type": "markdown",
   "metadata": {},
   "source": [
    "- **Prolangs-C/fixoutput**: Total is too small\n",
    "- **Prolangs-C/unix-small**: Total is too small\n",
    "- **Olden/tsp**: Good candidate, only 3 add instructions:\n",
    "  - static_id[0] = 1, 1\n",
    "  - static_id[1] = 699049, 1  <- Is the identity most of the time  (Tree initialization)\n",
    "    - ex: build_tree(n/2,dir,**lo+num_proc/2**,num_proc/2,min_x,med,min_y,max_y);\n",
    "  - static_id[2] = 349525, 0  <- Is the identity every single time (Tree initialization)\n",
    "- **Misc/mandel**: Has one good candidate\n",
    "  - static_id[0] = 25000000, 0 <- this one here (Initialization)\n",
    "  - static_id[1] = 5000, 24995000\n",
    "  - static_id[2] = 1, 4999\n",
    "- **McGill/misr**: Has quite a few good candidates\n",
    "  - ...\n",
    "  - static_id[9] = 9000000, 0\n",
    "  - static_id[10] = 4499209, 4500791\n",
    "  - static_id[11] = 4503839, 4496161\n",
    "  - static_id[12] = 1000000, 8000000\n",
    "  - ...\n",
    "  - static_id[14] = 500464, 499536\n",
    "  - static_id[15] = 500729, 499271\n",
    "  - static_id[16] = 100000, 900000\n",
    "  - ...\n",
    "- **McCat/17-bintr**: 2 out of 4 candidates\n",
    "  - static_id[0] = 44902, 45098  <- this one\n",
    "  - static_id[1] = 45100, 44900  <- and this one\n",
    "  - static_id[2] = 1, 99\n",
    "  - static_id[3] = 1, 99\n",
    "- **Olden/treeadd**: \n",
    "  - static_id[0] = 524288, 524287 *****\n",
    "  - static_id[1] = 524288, 524287 *****\n",
    "  - static_id[2] = 0, 1048575\n",
    "  - static_id[3] = 1048574, 1     *****"
   ]
  }
 ],
 "metadata": {
  "kernelspec": {
   "display_name": "Python 3",
   "language": "python",
   "name": "python3"
  },
  "language_info": {
   "codemirror_mode": {
    "name": "ipython",
    "version": 3
   },
   "file_extension": ".py",
   "mimetype": "text/x-python",
   "name": "python",
   "nbconvert_exporter": "python",
   "pygments_lexer": "ipython3",
   "version": "3.7.0"
  }
 },
 "nbformat": 4,
 "nbformat_minor": 2
}
